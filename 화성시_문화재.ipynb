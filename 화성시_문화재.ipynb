{
  "nbformat": 4,
  "nbformat_minor": 0,
  "metadata": {
    "colab": {
      "provenance": [],
      "mount_file_id": "1ms28MXDx7h8IIyysKNhYtkKFD5wp-SQL",
      "authorship_tag": "ABX9TyPFjcy+hV+zOyn2R+Kiq/ss",
      "include_colab_link": true
    },
    "kernelspec": {
      "name": "python3",
      "display_name": "Python 3"
    },
    "language_info": {
      "name": "python"
    }
  },
  "cells": [
    {
      "cell_type": "markdown",
      "metadata": {
        "id": "view-in-github",
        "colab_type": "text"
      },
      "source": [
        "<a href=\"https://colab.research.google.com/github/uirom/practice/blob/main/%ED%99%94%EC%84%B1%EC%8B%9C_%EB%AC%B8%ED%99%94%EC%9E%AC.ipynb\" target=\"_parent\"><img src=\"https://colab.research.google.com/assets/colab-badge.svg\" alt=\"Open In Colab\"/></a>"
      ]
    },
    {
      "cell_type": "code",
      "execution_count": 1,
      "metadata": {
        "id": "cbY76UrEn60U"
      },
      "outputs": [],
      "source": [
        "import numpy as np\n",
        "import pandas as pd"
      ]
    },
    {
      "cell_type": "code",
      "source": [
        "df = pd.read_csv(\"/content/drive/MyDrive/넘파이, 통계청/경기도 화성시_지정문화재 현황_20220901.csv\",encoding='utf-8')"
      ],
      "metadata": {
        "id": "xzaE7fsGwOLJ"
      },
      "execution_count": 2,
      "outputs": []
    },
    {
      "cell_type": "code",
      "source": [
        "# upload오류! : 경로를 명확하게 설정해주지 않으면 오류가 생김. 경로 명확히 설정 필요"
      ],
      "metadata": {
        "id": "n6ayBpkgy1-X"
      },
      "execution_count": 3,
      "outputs": []
    },
    {
      "cell_type": "code",
      "source": [
        "df['구분'].value_counts()"
      ],
      "metadata": {
        "colab": {
          "base_uri": "https://localhost:8080/"
        },
        "id": "79bbOhhEwPmO",
        "outputId": "bc6ce186-9f93-4340-8b0d-b0cc302587a5"
      },
      "execution_count": 4,
      "outputs": [
        {
          "output_type": "execute_result",
          "data": {
            "text/plain": [
              "도지정문화재     37\n",
              "향토문화재      33\n",
              "국가지정문화재    15\n",
              "Name: 구분, dtype: int64"
            ]
          },
          "metadata": {},
          "execution_count": 4
        }
      ]
    },
    {
      "cell_type": "markdown",
      "source": [
        "# 제일 오래된 문화재 찾아보기"
      ],
      "metadata": {
        "id": "55fZB7Km6NQA"
      }
    },
    {
      "cell_type": "code",
      "source": [
        "df['문화재 지정일'] = df['문화재 지정일'].str.split('(').str[0]\n",
        "df['문화재 지정일'] = pd.to_datetime(df['문화재 지정일'])"
      ],
      "metadata": {
        "id": "lqtLM9PLxXsw"
      },
      "execution_count": 5,
      "outputs": []
    },
    {
      "cell_type": "code",
      "source": [
        "df.sort_values('문화재 지정일').reset_index(drop=True)[['문화재명']].iloc[0]"
      ],
      "metadata": {
        "colab": {
          "base_uri": "https://localhost:8080/"
        },
        "id": "AvPQovEc5YcJ",
        "outputId": "70c27208-89a3-43da-a36f-f0a0b70baada"
      },
      "execution_count": 9,
      "outputs": [
        {
          "output_type": "execute_result",
          "data": {
            "text/plain": [
              "문화재명    용주사 동종\n",
              "Name: 0, dtype: object"
            ]
          },
          "metadata": {},
          "execution_count": 9
        }
      ]
    },
    {
      "cell_type": "markdown",
      "source": [
        "# 지정번호에서 국보의 개수 찾기"
      ],
      "metadata": {
        "id": "ed8B0b0GmSI-"
      }
    },
    {
      "cell_type": "code",
      "source": [
        "df.loc[df['지정번호'].str.contains('보물')].shape[0]"
      ],
      "metadata": {
        "colab": {
          "base_uri": "https://localhost:8080/"
        },
        "id": "YQfV9GIp65-H",
        "outputId": "35a8f1c3-b317-426b-d10a-b766009f18b9"
      },
      "execution_count": 31,
      "outputs": [
        {
          "output_type": "execute_result",
          "data": {
            "text/plain": [
              "5"
            ]
          },
          "metadata": {},
          "execution_count": 31
        }
      ]
    },
    {
      "cell_type": "markdown",
      "source": [
        "# 가장 많이 소유한 소유자 찾기"
      ],
      "metadata": {
        "id": "wC4HBlWmtk4H"
      }
    },
    {
      "cell_type": "code",
      "source": [
        "df['소유자'].value_counts().sort_values(ascending=False).reset_index().iloc[0]"
      ],
      "metadata": {
        "colab": {
          "base_uri": "https://localhost:8080/"
        },
        "id": "ce_vgJaRmQ3B",
        "outputId": "8cfe1e50-e375-4e7d-e8c4-d48051f82172"
      },
      "execution_count": 35,
      "outputs": [
        {
          "output_type": "execute_result",
          "data": {
            "text/plain": [
              "index    용주사\n",
              "소유자       17\n",
              "Name: 0, dtype: object"
            ]
          },
          "metadata": {},
          "execution_count": 35
        }
      ]
    },
    {
      "cell_type": "markdown",
      "source": [
        "# 문화재가 몇개로 나뉘고, 각 몇개씩 있는지 찾아보기"
      ],
      "metadata": {
        "id": "owmpNZPQu_dy"
      }
    },
    {
      "cell_type": "code",
      "source": [
        "df['구분'].value_counts()"
      ],
      "metadata": {
        "colab": {
          "base_uri": "https://localhost:8080/"
        },
        "id": "DvXzKAZemqxF",
        "outputId": "d5263de4-6ef8-4b1b-d485-620a5387009d"
      },
      "execution_count": 37,
      "outputs": [
        {
          "output_type": "execute_result",
          "data": {
            "text/plain": [
              "도지정문화재     37\n",
              "향토문화재      33\n",
              "국가지정문화재    15\n",
              "Name: 구분, dtype: int64"
            ]
          },
          "metadata": {},
          "execution_count": 37
        }
      ]
    },
    {
      "cell_type": "code",
      "source": [
        "df.loc[df['소유자'].str.contains('용 주 사')]"
      ],
      "metadata": {
        "colab": {
          "base_uri": "https://localhost:8080/",
          "height": 191
        },
        "id": "X5GZmIBot_CN",
        "outputId": "7b315e09-d245-47c6-aaea-3334d88cd5f1"
      },
      "execution_count": 41,
      "outputs": [
        {
          "output_type": "execute_result",
          "data": {
            "text/plain": [
              "   연번       구분                   문화재명       지정번호              위 치    소유자  \\\n",
              "0   1  국가지정문화재                 용주사 동종    국보제120호  경기도 화성시 용주로 136  용 주 사   \n",
              "3   4  국가지정문화재             불설대보부모은중경판   보물제1754호  경기도 화성시 용주로 136  용 주 사   \n",
              "4   5  국가지정문화재  안성 청원사 건칠아미타여래좌상 복장전적  보물 제1795호  경기도 화성시 용주로 136  용 주 사   \n",
              "5   6  국가지정문화재            화성 용주사 대웅보전   보물제1942호  경기도 화성시 용주로 136  용 주 사   \n",
              "\n",
              "     문화재 지정일  \n",
              "0 1964-03-30  \n",
              "3 2012-02-22  \n",
              "4 2012-12-27  \n",
              "5 2017-08-14  "
            ],
            "text/html": [
              "\n",
              "  <div id=\"df-55790188-3d95-454e-b0bc-fdddcf53774c\">\n",
              "    <div class=\"colab-df-container\">\n",
              "      <div>\n",
              "<style scoped>\n",
              "    .dataframe tbody tr th:only-of-type {\n",
              "        vertical-align: middle;\n",
              "    }\n",
              "\n",
              "    .dataframe tbody tr th {\n",
              "        vertical-align: top;\n",
              "    }\n",
              "\n",
              "    .dataframe thead th {\n",
              "        text-align: right;\n",
              "    }\n",
              "</style>\n",
              "<table border=\"1\" class=\"dataframe\">\n",
              "  <thead>\n",
              "    <tr style=\"text-align: right;\">\n",
              "      <th></th>\n",
              "      <th>연번</th>\n",
              "      <th>구분</th>\n",
              "      <th>문화재명</th>\n",
              "      <th>지정번호</th>\n",
              "      <th>위 치</th>\n",
              "      <th>소유자</th>\n",
              "      <th>문화재 지정일</th>\n",
              "    </tr>\n",
              "  </thead>\n",
              "  <tbody>\n",
              "    <tr>\n",
              "      <th>0</th>\n",
              "      <td>1</td>\n",
              "      <td>국가지정문화재</td>\n",
              "      <td>용주사 동종</td>\n",
              "      <td>국보제120호</td>\n",
              "      <td>경기도 화성시 용주로 136</td>\n",
              "      <td>용 주 사</td>\n",
              "      <td>1964-03-30</td>\n",
              "    </tr>\n",
              "    <tr>\n",
              "      <th>3</th>\n",
              "      <td>4</td>\n",
              "      <td>국가지정문화재</td>\n",
              "      <td>불설대보부모은중경판</td>\n",
              "      <td>보물제1754호</td>\n",
              "      <td>경기도 화성시 용주로 136</td>\n",
              "      <td>용 주 사</td>\n",
              "      <td>2012-02-22</td>\n",
              "    </tr>\n",
              "    <tr>\n",
              "      <th>4</th>\n",
              "      <td>5</td>\n",
              "      <td>국가지정문화재</td>\n",
              "      <td>안성 청원사 건칠아미타여래좌상 복장전적</td>\n",
              "      <td>보물 제1795호</td>\n",
              "      <td>경기도 화성시 용주로 136</td>\n",
              "      <td>용 주 사</td>\n",
              "      <td>2012-12-27</td>\n",
              "    </tr>\n",
              "    <tr>\n",
              "      <th>5</th>\n",
              "      <td>6</td>\n",
              "      <td>국가지정문화재</td>\n",
              "      <td>화성 용주사 대웅보전</td>\n",
              "      <td>보물제1942호</td>\n",
              "      <td>경기도 화성시 용주로 136</td>\n",
              "      <td>용 주 사</td>\n",
              "      <td>2017-08-14</td>\n",
              "    </tr>\n",
              "  </tbody>\n",
              "</table>\n",
              "</div>\n",
              "      <button class=\"colab-df-convert\" onclick=\"convertToInteractive('df-55790188-3d95-454e-b0bc-fdddcf53774c')\"\n",
              "              title=\"Convert this dataframe to an interactive table.\"\n",
              "              style=\"display:none;\">\n",
              "        \n",
              "  <svg xmlns=\"http://www.w3.org/2000/svg\" height=\"24px\"viewBox=\"0 0 24 24\"\n",
              "       width=\"24px\">\n",
              "    <path d=\"M0 0h24v24H0V0z\" fill=\"none\"/>\n",
              "    <path d=\"M18.56 5.44l.94 2.06.94-2.06 2.06-.94-2.06-.94-.94-2.06-.94 2.06-2.06.94zm-11 1L8.5 8.5l.94-2.06 2.06-.94-2.06-.94L8.5 2.5l-.94 2.06-2.06.94zm10 10l.94 2.06.94-2.06 2.06-.94-2.06-.94-.94-2.06-.94 2.06-2.06.94z\"/><path d=\"M17.41 7.96l-1.37-1.37c-.4-.4-.92-.59-1.43-.59-.52 0-1.04.2-1.43.59L10.3 9.45l-7.72 7.72c-.78.78-.78 2.05 0 2.83L4 21.41c.39.39.9.59 1.41.59.51 0 1.02-.2 1.41-.59l7.78-7.78 2.81-2.81c.8-.78.8-2.07 0-2.86zM5.41 20L4 18.59l7.72-7.72 1.47 1.35L5.41 20z\"/>\n",
              "  </svg>\n",
              "      </button>\n",
              "      \n",
              "  <style>\n",
              "    .colab-df-container {\n",
              "      display:flex;\n",
              "      flex-wrap:wrap;\n",
              "      gap: 12px;\n",
              "    }\n",
              "\n",
              "    .colab-df-convert {\n",
              "      background-color: #E8F0FE;\n",
              "      border: none;\n",
              "      border-radius: 50%;\n",
              "      cursor: pointer;\n",
              "      display: none;\n",
              "      fill: #1967D2;\n",
              "      height: 32px;\n",
              "      padding: 0 0 0 0;\n",
              "      width: 32px;\n",
              "    }\n",
              "\n",
              "    .colab-df-convert:hover {\n",
              "      background-color: #E2EBFA;\n",
              "      box-shadow: 0px 1px 2px rgba(60, 64, 67, 0.3), 0px 1px 3px 1px rgba(60, 64, 67, 0.15);\n",
              "      fill: #174EA6;\n",
              "    }\n",
              "\n",
              "    [theme=dark] .colab-df-convert {\n",
              "      background-color: #3B4455;\n",
              "      fill: #D2E3FC;\n",
              "    }\n",
              "\n",
              "    [theme=dark] .colab-df-convert:hover {\n",
              "      background-color: #434B5C;\n",
              "      box-shadow: 0px 1px 3px 1px rgba(0, 0, 0, 0.15);\n",
              "      filter: drop-shadow(0px 1px 2px rgba(0, 0, 0, 0.3));\n",
              "      fill: #FFFFFF;\n",
              "    }\n",
              "  </style>\n",
              "\n",
              "      <script>\n",
              "        const buttonEl =\n",
              "          document.querySelector('#df-55790188-3d95-454e-b0bc-fdddcf53774c button.colab-df-convert');\n",
              "        buttonEl.style.display =\n",
              "          google.colab.kernel.accessAllowed ? 'block' : 'none';\n",
              "\n",
              "        async function convertToInteractive(key) {\n",
              "          const element = document.querySelector('#df-55790188-3d95-454e-b0bc-fdddcf53774c');\n",
              "          const dataTable =\n",
              "            await google.colab.kernel.invokeFunction('convertToInteractive',\n",
              "                                                     [key], {});\n",
              "          if (!dataTable) return;\n",
              "\n",
              "          const docLinkHtml = 'Like what you see? Visit the ' +\n",
              "            '<a target=\"_blank\" href=https://colab.research.google.com/notebooks/data_table.ipynb>data table notebook</a>'\n",
              "            + ' to learn more about interactive tables.';\n",
              "          element.innerHTML = '';\n",
              "          dataTable['output_type'] = 'display_data';\n",
              "          await google.colab.output.renderOutput(dataTable, element);\n",
              "          const docLink = document.createElement('div');\n",
              "          docLink.innerHTML = docLinkHtml;\n",
              "          element.appendChild(docLink);\n",
              "        }\n",
              "      </script>\n",
              "    </div>\n",
              "  </div>\n",
              "  "
            ]
          },
          "metadata": {},
          "execution_count": 41
        }
      ]
    },
    {
      "cell_type": "code",
      "source": [],
      "metadata": {
        "id": "XcuoFf5lut8l"
      },
      "execution_count": null,
      "outputs": []
    }
  ]
}