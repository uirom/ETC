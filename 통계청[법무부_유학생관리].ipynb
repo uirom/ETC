{
  "nbformat": 4,
  "nbformat_minor": 0,
  "metadata": {
    "colab": {
      "provenance": [],
      "mount_file_id": "1xv_XZHRNGYH69VHY3UDaBo3KRVv8HVrE",
      "authorship_tag": "ABX9TyNacJ4taJqRuBqHJgKl7daR",
      "include_colab_link": true
    },
    "kernelspec": {
      "name": "python3",
      "display_name": "Python 3"
    },
    "language_info": {
      "name": "python"
    }
  },
  "cells": [
    {
      "cell_type": "markdown",
      "metadata": {
        "id": "view-in-github",
        "colab_type": "text"
      },
      "source": [
        "<a href=\"https://colab.research.google.com/github/uirom/practice/blob/main/%ED%86%B5%EA%B3%84%EC%B2%AD%5B%EB%B2%95%EB%AC%B4%EB%B6%80_%EC%9C%A0%ED%95%99%EC%83%9D%EA%B4%80%EB%A6%AC%5D.ipynb\" target=\"_parent\"><img src=\"https://colab.research.google.com/assets/colab-badge.svg\" alt=\"Open In Colab\"/></a>"
      ]
    },
    {
      "cell_type": "code",
      "execution_count": 1,
      "metadata": {
        "id": "E5b5VcsVO0_l"
      },
      "outputs": [],
      "source": [
        "import pandas as pd\n",
        "import numpy as np"
      ]
    },
    {
      "cell_type": "code",
      "source": [
        "from google.colab import drive\n",
        "drive.mount('/content/drive')"
      ],
      "metadata": {
        "id": "bUKCbnikPP6U",
        "colab": {
          "base_uri": "https://localhost:8080/"
        },
        "outputId": "995a0d5c-d87d-403b-aaa7-a4beaa6837fd"
      },
      "execution_count": 2,
      "outputs": [
        {
          "output_type": "stream",
          "name": "stdout",
          "text": [
            "Mounted at /content/drive\n"
          ]
        }
      ]
    },
    {
      "cell_type": "code",
      "source": [
        "df = pd.read_csv(\"/content/drive/MyDrive/넘파이, 통계청/법무부_유학생관리_20221231.csv\",encoding='utf-8')"
      ],
      "metadata": {
        "id": "eCU064qwO4LI"
      },
      "execution_count": 3,
      "outputs": []
    },
    {
      "cell_type": "markdown",
      "source": [
        "# 가장 많은 유학생이 있는 학교"
      ],
      "metadata": {
        "id": "49B-T1hGStBS"
      }
    },
    {
      "cell_type": "code",
      "source": [
        "df['학교명'].value_counts().reset_index().iloc[0,0]"
      ],
      "metadata": {
        "colab": {
          "base_uri": "https://localhost:8080/",
          "height": 56
        },
        "id": "ZYwQLbQiPXKb",
        "outputId": "8b6fbe1f-5d34-41d1-d77f-43562d17fb5e"
      },
      "execution_count": 4,
      "outputs": [
        {
          "output_type": "execute_result",
          "data": {
            "text/plain": [
              "'한양대학교'"
            ],
            "application/vnd.google.colaboratory.intrinsic+json": {
              "type": "string"
            }
          },
          "metadata": {},
          "execution_count": 4
        }
      ]
    },
    {
      "cell_type": "markdown",
      "source": [
        "# 유학생, 성별, 체류자격이 가장 많은 **나라**"
      ],
      "metadata": {
        "id": "LKYaMqL6S4mq"
      }
    },
    {
      "cell_type": "code",
      "source": [
        "df['국적명'].value_counts().reset_index().iloc[0,0]"
      ],
      "metadata": {
        "colab": {
          "base_uri": "https://localhost:8080/",
          "height": 56
        },
        "id": "eVfEYFYPPaXZ",
        "outputId": "9003d83f-51b4-40f1-861f-a72d44c420af"
      },
      "execution_count": 5,
      "outputs": [
        {
          "output_type": "execute_result",
          "data": {
            "text/plain": [
              "'베트남'"
            ],
            "application/vnd.google.colaboratory.intrinsic+json": {
              "type": "string"
            }
          },
          "metadata": {},
          "execution_count": 5
        }
      ]
    },
    {
      "cell_type": "code",
      "source": [
        "df['성별'].value_counts()"
      ],
      "metadata": {
        "colab": {
          "base_uri": "https://localhost:8080/"
        },
        "id": "rd5OFMNmP8N1",
        "outputId": "90c04e4b-fe5e-4603-ef06-ac23d7a40f51"
      },
      "execution_count": 6,
      "outputs": [
        {
          "output_type": "execute_result",
          "data": {
            "text/plain": [
              "여    105420\n",
              "남     88939\n",
              "Name: 성별, dtype: int64"
            ]
          },
          "metadata": {},
          "execution_count": 6
        }
      ]
    },
    {
      "cell_type": "code",
      "source": [
        "df['체류자격'].value_counts()"
      ],
      "metadata": {
        "colab": {
          "base_uri": "https://localhost:8080/"
        },
        "id": "u4dxOdgSTCAd",
        "outputId": "fc50ef69-b4a8-44ff-ba68-0891a815025d"
      },
      "execution_count": 7,
      "outputs": [
        {
          "output_type": "execute_result",
          "data": {
            "text/plain": [
              "학사과정            66319\n",
              "대학부설 어학원 연수     63131\n",
              "석사과정            27583\n",
              "박사과정            18063\n",
              "전문학사과정           9774\n",
              "교환학생             9240\n",
              "학술연구기관 특정연구자      222\n",
              "외국어연수생             26\n",
              "(구)교환학생             1\n",
              "Name: 체류자격, dtype: int64"
            ]
          },
          "metadata": {},
          "execution_count": 7
        }
      ]
    },
    {
      "cell_type": "markdown",
      "source": [
        "# 체류자격의 (구)교환학생을 교환학생과 합치기"
      ],
      "metadata": {
        "id": "XMT5A2QC2rsm"
      }
    },
    {
      "cell_type": "code",
      "source": [
        "def ff(x):\n",
        "  if x=='(구)교환학생':\n",
        "    return '교환학생'\n",
        "  else:\n",
        "    return x\n",
        "\n",
        "df['체류자격'] = df['체류자격'].apply(ff)"
      ],
      "metadata": {
        "id": "EXVEw65dXdVr",
        "colab": {
          "base_uri": "https://localhost:8080/"
        },
        "outputId": "ccb1c49c-306c-4a1b-f564-d8c36b7baadf"
      },
      "execution_count": 40,
      "outputs": [
        {
          "output_type": "execute_result",
          "data": {
            "text/plain": [
              "8"
            ]
          },
          "metadata": {},
          "execution_count": 40
        }
      ]
    },
    {
      "cell_type": "code",
      "source": [
        "df['체류자격'].value_counts()"
      ],
      "metadata": {
        "colab": {
          "base_uri": "https://localhost:8080/"
        },
        "id": "2bCVoWTE2SgE",
        "outputId": "cda4f402-8796-4f23-fab7-ca15504d3d0b"
      },
      "execution_count": 42,
      "outputs": [
        {
          "output_type": "execute_result",
          "data": {
            "text/plain": [
              "학사과정            66319\n",
              "대학부설 어학원 연수     63131\n",
              "석사과정            27583\n",
              "박사과정            18063\n",
              "전문학사과정           9774\n",
              "교환학생             9241\n",
              "학술연구기관 특정연구자      222\n",
              "외국어연수생             26\n",
              "Name: 체류자격, dtype: int64"
            ]
          },
          "metadata": {},
          "execution_count": 42
        }
      ]
    },
    {
      "cell_type": "markdown",
      "source": [
        "# 체류자격에서 학사과정인 사람들만 뽑아서 그 국적이 네팔인 사람들 수 세기"
      ],
      "metadata": {
        "id": "BJaHwtNGBEcH"
      }
    },
    {
      "cell_type": "code",
      "source": [
        "dd = df.loc[df['체류자격']=='학사과정']\n",
        "dd.loc[dd['국적명']=='네팔'].shape[0]"
      ],
      "metadata": {
        "colab": {
          "base_uri": "https://localhost:8080/"
        },
        "id": "8w_fzlkY2h-v",
        "outputId": "0fee0bf1-e3c5-41d9-bba7-668f089eb0ae"
      },
      "execution_count": 46,
      "outputs": [
        {
          "output_type": "execute_result",
          "data": {
            "text/plain": [
              "1624"
            ]
          },
          "metadata": {},
          "execution_count": 46
        }
      ]
    },
    {
      "cell_type": "code",
      "source": [],
      "metadata": {
        "id": "cAuLqpfb3r3d"
      },
      "execution_count": null,
      "outputs": []
    }
  ]
}